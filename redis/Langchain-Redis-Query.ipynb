{
 "cells": [
  {
   "cell_type": "markdown",
   "id": "165a3407",
   "metadata": {},
   "source": [
    "## Querying a Redis index\n",
    "\n",
    "Simple example on how to query content from a Redis VectorStore.\n",
    "\n",
    "Requirements:\n",
    "- A Redis cluster and Database where documents have been injected\n",
    "- All information for connecting to the redis cluster and database, index name and schema file."
   ]
  },
  {
   "cell_type": "markdown",
   "id": "1fbb29ec",
   "metadata": {},
   "source": [
    "### Install Packages"
   ]
  },
  {
   "cell_type": "code",
   "execution_count": null,
   "id": "d045f761",
   "metadata": {},
   "outputs": [],
   "source": [
    "!pip install -qU langchain langchain-huggingface psycopg \"psycopg[binary]\" langchain-community sentence-transformers redis==5.2.0"
   ]
  },
  {
   "cell_type": "markdown",
   "id": "f0b8ecae",
   "metadata": {},
   "source": [
    "### Base parameters, the Redis info"
   ]
  },
  {
   "cell_type": "code",
   "execution_count": null,
   "id": "9376e567",
   "metadata": {},
   "outputs": [],
   "source": [
    "import yaml\n",
    "\n",
    "schema_name = \"redis_schema.yaml\"\n",
    "\n",
    "with open(schema_name, 'r') as file:\n",
    "    redis_schema = yaml.safe_load(file)"
   ]
  },
  {
   "cell_type": "markdown",
   "id": "6e4572e1",
   "metadata": {},
   "source": [
    "### Imports"
   ]
  },
  {
   "cell_type": "code",
   "execution_count": null,
   "id": "83e11d23-c0ad-4875-b67f-149fc8b14725",
   "metadata": {
    "tags": []
   },
   "outputs": [],
   "source": [
    "from langchain.embeddings.huggingface import HuggingFaceEmbeddings\n",
    "import redis\n",
    "from langchain.vectorstores.redis import Redis"
   ]
  },
  {
   "cell_type": "markdown",
   "id": "a5cdccfc",
   "metadata": {},
   "source": [
    "### Configure Embedding"
   ]
  },
  {
   "cell_type": "markdown",
   "id": "ddbb8804",
   "metadata": {},
   "source": [
    "from langchain_huggingface import HuggingFaceEmbeddings\n",
    "\n",
    "# Specify a valid model name\n",
    "model_name = \"sentence-transformers/all-MiniLM-L6-v2\"  # Example model\n",
    "\n",
    "# Initialize HuggingFaceEmbeddings with the specified model\n",
    "embeddings = HuggingFaceEmbeddings(model_name=model_name)\n"
   ]
  },
  {
   "cell_type": "markdown",
   "id": "56d51868",
   "metadata": {},
   "source": [
    "### Initialize the connection"
   ]
  },
  {
   "cell_type": "code",
   "execution_count": null,
   "id": "bbb6a3e3-5ccd-441e-b80d-427555d9e9f6",
   "metadata": {
    "tags": []
   },
   "outputs": [],
   "source": [
    "from redis import Redis as RedisClient\n",
    "from langchain_community.vectorstores.redis import Redis\n",
    "\n",
    "password=\"password\" #Change this to the password of the redis instance\n",
    "ragendpoint=\"redb-rag-instance.redis-rag.svc.cluster.local.local\" # Double check the endpoint of the redis instance\n",
    "port=\"14283\" # Change this to the port of the redis instance\n",
    "redis_url = \"redis://default:\"+password+\"@\"+ragendpoint+\":\"+port\n",
    "index_name = \"docs\"\n",
    "\n",
    "\n",
    "# Create Redis client explicitly\n",
    "#redis_client = RedisClient.from_url(redis_url)\n",
    "\n",
    "embeddings = HuggingFaceEmbeddings(model_name=\"sentence-transformers/all-MiniLM-L6-v2\")\n",
    "rds = Redis.from_existing_index(\n",
    "    embeddings,\n",
    "    redis_url=redis_url,\n",
    "    index_name=index_name,\n",
    "    schema=\"redis_schema.yaml\"\n",
    ")"
   ]
  },
  {
   "cell_type": "markdown",
   "id": "9856851c",
   "metadata": {},
   "source": [
    "### Make a query to the index to verify sources"
   ]
  },
  {
   "cell_type": "code",
   "execution_count": null,
   "id": "9621e231-3541-40bc-85ef-8aa3b2ba2331",
   "metadata": {
    "tags": []
   },
   "outputs": [],
   "source": [
    "query=\"How do you work with taints?\"\n",
    "results =rds.similarity_search(query, k=4, return_metadata=True)\n",
    "for result in results:\n",
    "    print(result.metadata['source'])"
   ]
  },
  {
   "cell_type": "markdown",
   "id": "f1005e2c",
   "metadata": {},
   "source": [
    "### Work with a retriever"
   ]
  },
  {
   "cell_type": "code",
   "execution_count": null,
   "id": "566f9347-a40a-4eeb-a690-e199b91947a3",
   "metadata": {
    "tags": []
   },
   "outputs": [],
   "source": [
    "retriever = rds.as_retriever(search_type=\"similarity_distance_threshold\", search_kwargs={\"k\": 4, \"distance_threshold\": 2})"
   ]
  },
  {
   "cell_type": "code",
   "execution_count": null,
   "id": "1c378fbd-395d-43af-8cca-268bc05d0f51",
   "metadata": {
    "tags": []
   },
   "outputs": [],
   "source": [
    "docs = retriever.get_relevant_documents(query)\n",
    "docs"
   ]
  }
 ],
 "metadata": {
  "kernelspec": {
   "display_name": "Python 3.11",
   "language": "python",
   "name": "python3"
  },
  "language_info": {
   "codemirror_mode": {
    "name": "ipython",
    "version": 3
   },
   "file_extension": ".py",
   "mimetype": "text/x-python",
   "name": "python",
   "nbconvert_exporter": "python",
   "pygments_lexer": "ipython3",
   "version": "3.11.4"
  }
 },
 "nbformat": 4,
 "nbformat_minor": 5
}
